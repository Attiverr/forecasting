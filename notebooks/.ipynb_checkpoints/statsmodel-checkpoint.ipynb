{
 "cells": [
  {
   "cell_type": "code",
   "execution_count": 1,
   "metadata": {
    "pycharm": {
     "is_executing": false
    }
   },
   "outputs": [],
   "source": [
    "from pandas import read_csv\n",
    "import statsmodels\n",
    "import numpy as np\n",
    "import quandl\n",
    "\n",
    "quandl.ApiConfig.api_key = \"hkdUt265S_BuPkiCFNqk\""
   ]
  },
  {
   "cell_type": "code",
   "execution_count": 2,
   "metadata": {
    "pycharm": {
     "is_executing": false,
     "name": "#%%\n"
    }
   },
   "outputs": [],
   "source": [
    "data = quandl.get(\"EIA/PET_RWTC_D\", returns=\"pandas\")"
   ]
  },
  {
   "cell_type": "code",
   "execution_count": 3,
   "metadata": {
    "pycharm": {
     "is_executing": false,
     "name": "#%%\n"
    }
   },
   "outputs": [],
   "source": [
    "import requests\n",
    "databases = []\n",
    "page = 1\n",
    "while(page is not None):\n",
    "    payload = requests.get(\"https://www.quandl.com/api/v3/databases?api_key={}&page={}\"\\\n",
    "                    .format(quandl.ApiConfig.api_key, page)).json()\n",
    "    databases += payload['databases']\n",
    "    page = payload['meta']['next_page']"
   ]
  },
  {
   "cell_type": "code",
   "execution_count": 4,
   "metadata": {
    "pycharm": {
     "is_executing": false,
     "name": "#%%\n"
    }
   },
   "outputs": [
    {
     "name": "stdout",
     "output_type": "stream",
     "text": [
      "Requirement already satisfied: pixiedust in /home/icode_19/anaconda3/envs/forecasting/lib/python3.7/site-packages (1.1.18)\n",
      "Requirement already satisfied: geojson in /home/icode_19/anaconda3/envs/forecasting/lib/python3.7/site-packages (from pixiedust) (2.5.0)\n",
      "Requirement already satisfied: colour in /home/icode_19/anaconda3/envs/forecasting/lib/python3.7/site-packages (from pixiedust) (0.1.5)\n",
      "Requirement already satisfied: requests in /home/icode_19/anaconda3/envs/forecasting/lib/python3.7/site-packages (from pixiedust) (2.22.0)\n",
      "Requirement already satisfied: markdown in /home/icode_19/anaconda3/envs/forecasting/lib/python3.7/site-packages (from pixiedust) (3.1.1)\n",
      "Requirement already satisfied: lxml in /home/icode_19/anaconda3/envs/forecasting/lib/python3.7/site-packages (from pixiedust) (4.4.2)\n",
      "Requirement already satisfied: astunparse in /home/icode_19/anaconda3/envs/forecasting/lib/python3.7/site-packages (from pixiedust) (1.6.3)\n",
      "Requirement already satisfied: mpld3 in /home/icode_19/anaconda3/envs/forecasting/lib/python3.7/site-packages (from pixiedust) (0.3)\n",
      "Requirement already satisfied: chardet<3.1.0,>=3.0.2 in /home/icode_19/anaconda3/envs/forecasting/lib/python3.7/site-packages (from requests->pixiedust) (3.0.4)\n",
      "Requirement already satisfied: idna<2.9,>=2.5 in /home/icode_19/anaconda3/envs/forecasting/lib/python3.7/site-packages (from requests->pixiedust) (2.8)\n",
      "Requirement already satisfied: certifi>=2017.4.17 in /home/icode_19/anaconda3/envs/forecasting/lib/python3.7/site-packages (from requests->pixiedust) (2019.11.28)\n",
      "Requirement already satisfied: urllib3!=1.25.0,!=1.25.1,<1.26,>=1.21.1 in /home/icode_19/anaconda3/envs/forecasting/lib/python3.7/site-packages (from requests->pixiedust) (1.25.7)\n",
      "Requirement already satisfied: setuptools>=36 in /home/icode_19/anaconda3/envs/forecasting/lib/python3.7/site-packages (from markdown->pixiedust) (44.0.0.post20200106)\n",
      "Requirement already satisfied: wheel<1.0,>=0.23.0 in /home/icode_19/anaconda3/envs/forecasting/lib/python3.7/site-packages (from astunparse->pixiedust) (0.33.6)\n",
      "Requirement already satisfied: six<2.0,>=1.6.1 in /home/icode_19/anaconda3/envs/forecasting/lib/python3.7/site-packages (from astunparse->pixiedust) (1.13.0)\n"
     ]
    }
   ],
   "source": [
    "!pip install pixiedust"
   ]
  },
  {
   "cell_type": "code",
   "execution_count": 5,
   "metadata": {
    "pycharm": {
     "is_executing": false,
     "name": "#%%\n"
    }
   },
   "outputs": [],
   "source": [
    "msft = quandl.get('WIKI/MSFT')\n",
    "msft['daily_spread'] = msft['Adj. Close'].diff()\n",
    "msft = msft.reset_index()"
   ]
  },
  {
   "cell_type": "code",
   "execution_count": null,
   "metadata": {
    "pixiedust": {
     "displayParams": {
      "aggregation": "AVG",
      "handlerId": "lineChart",
      "keyFields": "Date",
      "rowCount": "1000",
      "title": "Test",
      "valueFields": "daily_spread"
     }
    },
    "pycharm": {
     "is_executing": false,
     "name": "#%%\n"
    }
   },
   "outputs": [
    {
     "data": {
      "text/html": [
       "<style type=\"text/css\">.pd_warning{display:none;}</style><div class=\"pd_warning\"><em>Hey, there's something awesome here! To see it, open this notebook outside GitHub, in a viewer like Jupyter</em></div>\n",
       "        <div class=\"pd_save is-viewer-good\" style=\"padding-right:10px;text-align: center;line-height:initial !important;font-size: xx-large;font-weight: 500;color: coral;\">\n",
       "            Test\n",
       "        </div>\n",
       "    <div id=\"chartFigure6f06c9ff\" class=\"pd_save is-viewer-good\" style=\"overflow-x:auto\">\n",
       "            \n",
       "                <div style=\"min-height: 50px;\">\n",
       "                    <div style=\"color: red;position: absolute;bottom: 0;left: 0;\">x must be a label or position</div>\n",
       "                </div>\n",
       "            \n",
       "        </div>"
      ],
      "text/plain": [
       "<IPython.core.display.HTML object>"
      ]
     },
     "metadata": {},
     "output_type": "display_data"
    }
   ],
   "source": [
    "import pixiedust\n",
    "import pandas as pd\n",
    "tail = msft[msft['Date'] > '2016-05-16']\n",
    "investment = np.cumsum((10000 / tail['Adj. Close'].values[0]) * tail['daily_spread']) + 10000\n",
    "investment = investment.astype(int)\n",
    "investment.index = tail['Date']\n",
    "investment = investment.resample('M').mean()\n",
    "investment = pd.DataFrame(investment).reset_index()\n",
    "pixiedust.display(investment)\n"
   ]
  },
  {
   "cell_type": "code",
   "execution_count": null,
   "metadata": {
    "pycharm": {
     "name": "#%%\n"
    }
   },
   "outputs": [],
   "source": [
    "\n"
   ]
  }
 ],
 "metadata": {
  "kernelspec": {
   "display_name": "Python 3",
   "language": "python",
   "name": "python3"
  },
  "language_info": {
   "codemirror_mode": {
    "name": "ipython",
    "version": 3
   },
   "file_extension": ".py",
   "mimetype": "text/x-python",
   "name": "python",
   "nbconvert_exporter": "python",
   "pygments_lexer": "ipython3",
   "version": "3.7.6"
  },
  "pycharm": {
   "stem_cell": {
    "cell_type": "raw",
    "metadata": {
     "collapsed": false
    },
    "source": []
   }
  }
 },
 "nbformat": 4,
 "nbformat_minor": 1
}
